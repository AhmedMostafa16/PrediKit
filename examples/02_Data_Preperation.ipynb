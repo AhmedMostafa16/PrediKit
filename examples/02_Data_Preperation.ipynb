{
 "cells": [
  {
   "cell_type": "code",
   "execution_count": 12,
   "metadata": {},
   "outputs": [],
   "source": [
    "import predikit as pk\n",
    "import pandas as pd\n",
    "import numpy as np\n",
    "import os\n",
    "import sys\n",
    "\n",
    "root = os.path.dirname(os.path.abspath(\".\"))\n",
    "sys.path.append(root)"
   ]
  },
  {
   "cell_type": "markdown",
   "metadata": {},
   "source": [
    "# Test Load DataFrame\n"
   ]
  },
  {
   "cell_type": "code",
   "execution_count": 13,
   "metadata": {},
   "outputs": [
    {
     "data": {
      "text/plain": [
       "'From BytesIO'"
      ]
     },
     "metadata": {},
     "output_type": "display_data"
    },
    {
     "data": {
      "text/plain": [
       "['a', 'b', 'c']"
      ]
     },
     "metadata": {},
     "output_type": "display_data"
    },
    {
     "data": {
      "text/plain": [
       "{'a': dtype('int64'), 'b': dtype('int64'), 'c': dtype('int64')}"
      ]
     },
     "metadata": {},
     "output_type": "display_data"
    },
    {
     "data": {
      "text/plain": [
       "{'a': 'i', 'b': 'i', 'c': 'i'}"
      ]
     },
     "metadata": {},
     "output_type": "display_data"
    },
    {
     "data": {
      "text/plain": [
       "['a', 'b', 'c']"
      ]
     },
     "metadata": {},
     "output_type": "display_data"
    },
    {
     "data": {
      "text/plain": [
       "None"
      ]
     },
     "metadata": {},
     "output_type": "display_data"
    },
    {
     "data": {
      "text/html": [
       "<div>\n",
       "<style scoped>\n",
       "    .dataframe tbody tr th:only-of-type {\n",
       "        vertical-align: middle;\n",
       "    }\n",
       "\n",
       "    .dataframe tbody tr th {\n",
       "        vertical-align: top;\n",
       "    }\n",
       "\n",
       "    .dataframe thead th {\n",
       "        text-align: right;\n",
       "    }\n",
       "</style>\n",
       "<table border=\"1\" class=\"dataframe\">\n",
       "  <thead>\n",
       "    <tr style=\"text-align: right;\">\n",
       "      <th></th>\n",
       "      <th>a</th>\n",
       "      <th>b</th>\n",
       "      <th>c</th>\n",
       "    </tr>\n",
       "  </thead>\n",
       "  <tbody>\n",
       "    <tr>\n",
       "      <th>0</th>\n",
       "      <td>1</td>\n",
       "      <td>2</td>\n",
       "      <td>3</td>\n",
       "    </tr>\n",
       "    <tr>\n",
       "      <th>1</th>\n",
       "      <td>4</td>\n",
       "      <td>5</td>\n",
       "      <td>6</td>\n",
       "    </tr>\n",
       "    <tr>\n",
       "      <th>2</th>\n",
       "      <td>7</td>\n",
       "      <td>8</td>\n",
       "      <td>9</td>\n",
       "    </tr>\n",
       "  </tbody>\n",
       "</table>\n",
       "</div>"
      ],
      "text/plain": [
       "   a  b  c\n",
       "0  1  2  3\n",
       "1  4  5  6\n",
       "2  7  8  9"
      ]
     },
     "metadata": {},
     "output_type": "display_data"
    },
    {
     "name": "stdout",
     "output_type": "stream",
     "text": [
      "sample_data/airline_bumping.csv\n"
     ]
    },
    {
     "data": {
      "text/plain": [
       "'From csv'"
      ]
     },
     "metadata": {},
     "output_type": "display_data"
    },
    {
     "data": {
      "text/plain": [
       "['airline', 'year', 'nb_bumped', 'total_passengers']"
      ]
     },
     "metadata": {},
     "output_type": "display_data"
    },
    {
     "data": {
      "text/plain": [
       "{'airline': dtype('O'),\n",
       " 'year': dtype('int64'),\n",
       " 'nb_bumped': dtype('int64'),\n",
       " 'total_passengers': dtype('int64')}"
      ]
     },
     "metadata": {},
     "output_type": "display_data"
    },
    {
     "data": {
      "text/plain": [
       "{'airline': 'O', 'year': 'i', 'nb_bumped': 'i', 'total_passengers': 'i'}"
      ]
     },
     "metadata": {},
     "output_type": "display_data"
    },
    {
     "data": {
      "text/plain": [
       "['year', 'nb_bumped', 'total_passengers']"
      ]
     },
     "metadata": {},
     "output_type": "display_data"
    },
    {
     "data": {
      "text/plain": [
       "['airline']"
      ]
     },
     "metadata": {},
     "output_type": "display_data"
    },
    {
     "data": {
      "text/html": [
       "<div>\n",
       "<style scoped>\n",
       "    .dataframe tbody tr th:only-of-type {\n",
       "        vertical-align: middle;\n",
       "    }\n",
       "\n",
       "    .dataframe tbody tr th {\n",
       "        vertical-align: top;\n",
       "    }\n",
       "\n",
       "    .dataframe thead th {\n",
       "        text-align: right;\n",
       "    }\n",
       "</style>\n",
       "<table border=\"1\" class=\"dataframe\">\n",
       "  <thead>\n",
       "    <tr style=\"text-align: right;\">\n",
       "      <th></th>\n",
       "      <th>airline</th>\n",
       "      <th>year</th>\n",
       "      <th>nb_bumped</th>\n",
       "      <th>total_passengers</th>\n",
       "    </tr>\n",
       "  </thead>\n",
       "  <tbody>\n",
       "    <tr>\n",
       "      <th>0</th>\n",
       "      <td>DELTA AIR LINES</td>\n",
       "      <td>2017</td>\n",
       "      <td>679</td>\n",
       "      <td>99796155</td>\n",
       "    </tr>\n",
       "    <tr>\n",
       "      <th>1</th>\n",
       "      <td>VIRGIN AMERICA</td>\n",
       "      <td>2017</td>\n",
       "      <td>165</td>\n",
       "      <td>6090029</td>\n",
       "    </tr>\n",
       "    <tr>\n",
       "      <th>2</th>\n",
       "      <td>JETBLUE AIRWAYS</td>\n",
       "      <td>2017</td>\n",
       "      <td>1475</td>\n",
       "      <td>27255038</td>\n",
       "    </tr>\n",
       "    <tr>\n",
       "      <th>3</th>\n",
       "      <td>UNITED AIRLINES</td>\n",
       "      <td>2017</td>\n",
       "      <td>2067</td>\n",
       "      <td>70030765</td>\n",
       "    </tr>\n",
       "  </tbody>\n",
       "</table>\n",
       "</div>"
      ],
      "text/plain": [
       "           airline  year  nb_bumped  total_passengers\n",
       "0  DELTA AIR LINES  2017        679          99796155\n",
       "1   VIRGIN AMERICA  2017        165           6090029\n",
       "2  JETBLUE AIRWAYS  2017       1475          27255038\n",
       "3  UNITED AIRLINES  2017       2067          70030765"
      ]
     },
     "metadata": {},
     "output_type": "display_data"
    },
    {
     "data": {
      "text/plain": [
       "'From pickle'"
      ]
     },
     "metadata": {},
     "output_type": "display_data"
    },
    {
     "data": {
      "text/plain": [
       "['station_id', 'station_name', 'location']"
      ]
     },
     "metadata": {},
     "output_type": "display_data"
    },
    {
     "data": {
      "text/plain": [
       "{'station_id': dtype('O'), 'station_name': dtype('O'), 'location': dtype('O')}"
      ]
     },
     "metadata": {},
     "output_type": "display_data"
    },
    {
     "data": {
      "text/plain": [
       "{'station_id': 'O', 'station_name': 'O', 'location': 'O'}"
      ]
     },
     "metadata": {},
     "output_type": "display_data"
    },
    {
     "data": {
      "text/plain": [
       "None"
      ]
     },
     "metadata": {},
     "output_type": "display_data"
    },
    {
     "data": {
      "text/plain": [
       "['station_id', 'station_name', 'location']"
      ]
     },
     "metadata": {},
     "output_type": "display_data"
    },
    {
     "data": {
      "text/html": [
       "<div>\n",
       "<style scoped>\n",
       "    .dataframe tbody tr th:only-of-type {\n",
       "        vertical-align: middle;\n",
       "    }\n",
       "\n",
       "    .dataframe tbody tr th {\n",
       "        vertical-align: top;\n",
       "    }\n",
       "\n",
       "    .dataframe thead th {\n",
       "        text-align: right;\n",
       "    }\n",
       "</style>\n",
       "<table border=\"1\" class=\"dataframe\">\n",
       "  <thead>\n",
       "    <tr style=\"text-align: right;\">\n",
       "      <th></th>\n",
       "      <th>station_id</th>\n",
       "      <th>station_name</th>\n",
       "      <th>location</th>\n",
       "    </tr>\n",
       "  </thead>\n",
       "  <tbody>\n",
       "    <tr>\n",
       "      <th>0</th>\n",
       "      <td>40010</td>\n",
       "      <td>Austin-Forest Park</td>\n",
       "      <td>(41.870851, -87.776812)</td>\n",
       "    </tr>\n",
       "    <tr>\n",
       "      <th>1</th>\n",
       "      <td>40020</td>\n",
       "      <td>Harlem-Lake</td>\n",
       "      <td>(41.886848, -87.803176)</td>\n",
       "    </tr>\n",
       "    <tr>\n",
       "      <th>2</th>\n",
       "      <td>40030</td>\n",
       "      <td>Pulaski-Lake</td>\n",
       "      <td>(41.885412, -87.725404)</td>\n",
       "    </tr>\n",
       "    <tr>\n",
       "      <th>3</th>\n",
       "      <td>40040</td>\n",
       "      <td>Quincy/Wells</td>\n",
       "      <td>(41.878723, -87.63374)</td>\n",
       "    </tr>\n",
       "    <tr>\n",
       "      <th>4</th>\n",
       "      <td>40050</td>\n",
       "      <td>Davis</td>\n",
       "      <td>(42.04771, -87.683543)</td>\n",
       "    </tr>\n",
       "  </tbody>\n",
       "</table>\n",
       "</div>"
      ],
      "text/plain": [
       "  station_id        station_name                 location\n",
       "0      40010  Austin-Forest Park  (41.870851, -87.776812)\n",
       "1      40020         Harlem-Lake  (41.886848, -87.803176)\n",
       "2      40030        Pulaski-Lake  (41.885412, -87.725404)\n",
       "3      40040        Quincy/Wells   (41.878723, -87.63374)\n",
       "4      40050               Davis   (42.04771, -87.683543)"
      ]
     },
     "metadata": {},
     "output_type": "display_data"
    },
    {
     "data": {
      "text/plain": [
       "'From parquet'"
      ]
     },
     "metadata": {},
     "output_type": "display_data"
    },
    {
     "data": {
      "text/plain": [
       "['FL_DATE',\n",
       " 'DEP_DELAY',\n",
       " 'ARR_DELAY',\n",
       " 'AIR_TIME',\n",
       " 'DISTANCE',\n",
       " 'DEP_TIME',\n",
       " 'ARR_TIME']"
      ]
     },
     "metadata": {},
     "output_type": "display_data"
    },
    {
     "data": {
      "text/plain": [
       "{'FL_DATE': dtype('O'),\n",
       " 'DEP_DELAY': dtype('int16'),\n",
       " 'ARR_DELAY': dtype('int16'),\n",
       " 'AIR_TIME': dtype('int16'),\n",
       " 'DISTANCE': dtype('int16'),\n",
       " 'DEP_TIME': dtype('float32'),\n",
       " 'ARR_TIME': dtype('float32')}"
      ]
     },
     "metadata": {},
     "output_type": "display_data"
    },
    {
     "data": {
      "text/plain": [
       "{'FL_DATE': 'O',\n",
       " 'DEP_DELAY': 'i',\n",
       " 'ARR_DELAY': 'i',\n",
       " 'AIR_TIME': 'i',\n",
       " 'DISTANCE': 'i',\n",
       " 'DEP_TIME': 'f',\n",
       " 'ARR_TIME': 'f'}"
      ]
     },
     "metadata": {},
     "output_type": "display_data"
    },
    {
     "data": {
      "text/plain": [
       "['DEP_DELAY', 'ARR_DELAY', 'AIR_TIME', 'DISTANCE', 'DEP_TIME', 'ARR_TIME']"
      ]
     },
     "metadata": {},
     "output_type": "display_data"
    },
    {
     "data": {
      "text/plain": [
       "['FL_DATE']"
      ]
     },
     "metadata": {},
     "output_type": "display_data"
    },
    {
     "data": {
      "text/html": [
       "<div>\n",
       "<style scoped>\n",
       "    .dataframe tbody tr th:only-of-type {\n",
       "        vertical-align: middle;\n",
       "    }\n",
       "\n",
       "    .dataframe tbody tr th {\n",
       "        vertical-align: top;\n",
       "    }\n",
       "\n",
       "    .dataframe thead th {\n",
       "        text-align: right;\n",
       "    }\n",
       "</style>\n",
       "<table border=\"1\" class=\"dataframe\">\n",
       "  <thead>\n",
       "    <tr style=\"text-align: right;\">\n",
       "      <th></th>\n",
       "      <th>FL_DATE</th>\n",
       "      <th>DEP_DELAY</th>\n",
       "      <th>ARR_DELAY</th>\n",
       "      <th>AIR_TIME</th>\n",
       "      <th>DISTANCE</th>\n",
       "      <th>DEP_TIME</th>\n",
       "      <th>ARR_TIME</th>\n",
       "    </tr>\n",
       "  </thead>\n",
       "  <tbody>\n",
       "    <tr>\n",
       "      <th>0</th>\n",
       "      <td>2006-01-01</td>\n",
       "      <td>5</td>\n",
       "      <td>19</td>\n",
       "      <td>350</td>\n",
       "      <td>2475</td>\n",
       "      <td>9.083333</td>\n",
       "      <td>12.483334</td>\n",
       "    </tr>\n",
       "    <tr>\n",
       "      <th>1</th>\n",
       "      <td>2006-01-02</td>\n",
       "      <td>167</td>\n",
       "      <td>216</td>\n",
       "      <td>343</td>\n",
       "      <td>2475</td>\n",
       "      <td>11.783334</td>\n",
       "      <td>15.766666</td>\n",
       "    </tr>\n",
       "    <tr>\n",
       "      <th>2</th>\n",
       "      <td>2006-01-03</td>\n",
       "      <td>-7</td>\n",
       "      <td>-2</td>\n",
       "      <td>344</td>\n",
       "      <td>2475</td>\n",
       "      <td>8.883333</td>\n",
       "      <td>12.133333</td>\n",
       "    </tr>\n",
       "  </tbody>\n",
       "</table>\n",
       "</div>"
      ],
      "text/plain": [
       "      FL_DATE  DEP_DELAY  ARR_DELAY  AIR_TIME  DISTANCE   DEP_TIME   ARR_TIME\n",
       "0  2006-01-01          5         19       350      2475   9.083333  12.483334\n",
       "1  2006-01-02        167        216       343      2475  11.783334  15.766666\n",
       "2  2006-01-03         -7         -2       344      2475   8.883333  12.133333"
      ]
     },
     "metadata": {},
     "output_type": "display_data"
    },
    {
     "data": {
      "text/plain": [
       "'From dict'"
      ]
     },
     "metadata": {},
     "output_type": "display_data"
    },
    {
     "data": {
      "text/plain": [
       "['Name', 'Age', 'Credit']"
      ]
     },
     "metadata": {},
     "output_type": "display_data"
    },
    {
     "data": {
      "text/plain": [
       "{'Name': dtype('O'), 'Age': dtype('float64'), 'Credit': dtype('float64')}"
      ]
     },
     "metadata": {},
     "output_type": "display_data"
    },
    {
     "data": {
      "text/plain": [
       "{'Name': 'O', 'Age': 'f', 'Credit': 'f'}"
      ]
     },
     "metadata": {},
     "output_type": "display_data"
    },
    {
     "data": {
      "text/plain": [
       "['Age', 'Credit']"
      ]
     },
     "metadata": {},
     "output_type": "display_data"
    },
    {
     "data": {
      "text/plain": [
       "['Name']"
      ]
     },
     "metadata": {},
     "output_type": "display_data"
    },
    {
     "data": {
      "text/html": [
       "<div>\n",
       "<style scoped>\n",
       "    .dataframe tbody tr th:only-of-type {\n",
       "        vertical-align: middle;\n",
       "    }\n",
       "\n",
       "    .dataframe tbody tr th {\n",
       "        vertical-align: top;\n",
       "    }\n",
       "\n",
       "    .dataframe thead th {\n",
       "        text-align: right;\n",
       "    }\n",
       "</style>\n",
       "<table border=\"1\" class=\"dataframe\">\n",
       "  <thead>\n",
       "    <tr style=\"text-align: right;\">\n",
       "      <th></th>\n",
       "      <th>Name</th>\n",
       "      <th>Age</th>\n",
       "      <th>Credit</th>\n",
       "    </tr>\n",
       "  </thead>\n",
       "  <tbody>\n",
       "    <tr>\n",
       "      <th>0</th>\n",
       "      <td>John</td>\n",
       "      <td>NaN</td>\n",
       "      <td>NaN</td>\n",
       "    </tr>\n",
       "    <tr>\n",
       "      <th>1</th>\n",
       "      <td>Andrea</td>\n",
       "      <td>23.0</td>\n",
       "      <td>400.0</td>\n",
       "    </tr>\n",
       "    <tr>\n",
       "      <th>2</th>\n",
       "      <td>Rose</td>\n",
       "      <td>25.0</td>\n",
       "      <td>NaN</td>\n",
       "    </tr>\n",
       "  </tbody>\n",
       "</table>\n",
       "</div>"
      ],
      "text/plain": [
       "     Name   Age  Credit\n",
       "0    John   NaN     NaN\n",
       "1  Andrea  23.0   400.0\n",
       "2    Rose  25.0     NaN"
      ]
     },
     "metadata": {},
     "output_type": "display_data"
    },
    {
     "data": {
      "text/plain": [
       "'From list of dicts'"
      ]
     },
     "metadata": {},
     "output_type": "display_data"
    },
    {
     "data": {
      "text/plain": [
       "['Name', 'Age', 'Credit']"
      ]
     },
     "metadata": {},
     "output_type": "display_data"
    },
    {
     "data": {
      "text/plain": [
       "{'Name': dtype('O'), 'Age': dtype('float64'), 'Credit': dtype('float64')}"
      ]
     },
     "metadata": {},
     "output_type": "display_data"
    },
    {
     "data": {
      "text/plain": [
       "{'Name': 'O', 'Age': 'f', 'Credit': 'f'}"
      ]
     },
     "metadata": {},
     "output_type": "display_data"
    },
    {
     "data": {
      "text/plain": [
       "['Age', 'Credit']"
      ]
     },
     "metadata": {},
     "output_type": "display_data"
    },
    {
     "data": {
      "text/plain": [
       "['Name']"
      ]
     },
     "metadata": {},
     "output_type": "display_data"
    },
    {
     "data": {
      "text/html": [
       "<div>\n",
       "<style scoped>\n",
       "    .dataframe tbody tr th:only-of-type {\n",
       "        vertical-align: middle;\n",
       "    }\n",
       "\n",
       "    .dataframe tbody tr th {\n",
       "        vertical-align: top;\n",
       "    }\n",
       "\n",
       "    .dataframe thead th {\n",
       "        text-align: right;\n",
       "    }\n",
       "</style>\n",
       "<table border=\"1\" class=\"dataframe\">\n",
       "  <thead>\n",
       "    <tr style=\"text-align: right;\">\n",
       "      <th></th>\n",
       "      <th>Name</th>\n",
       "      <th>Age</th>\n",
       "      <th>Credit</th>\n",
       "    </tr>\n",
       "  </thead>\n",
       "  <tbody>\n",
       "    <tr>\n",
       "      <th>0</th>\n",
       "      <td>John</td>\n",
       "      <td>NaN</td>\n",
       "      <td>NaN</td>\n",
       "    </tr>\n",
       "    <tr>\n",
       "      <th>1</th>\n",
       "      <td>Andrea</td>\n",
       "      <td>23.0</td>\n",
       "      <td>400.0</td>\n",
       "    </tr>\n",
       "    <tr>\n",
       "      <th>2</th>\n",
       "      <td>Rose</td>\n",
       "      <td>25.0</td>\n",
       "      <td>NaN</td>\n",
       "    </tr>\n",
       "  </tbody>\n",
       "</table>\n",
       "</div>"
      ],
      "text/plain": [
       "     Name   Age  Credit\n",
       "0    John   NaN     NaN\n",
       "1  Andrea  23.0   400.0\n",
       "2    Rose  25.0     NaN"
      ]
     },
     "metadata": {},
     "output_type": "display_data"
    },
    {
     "data": {
      "text/plain": [
       "'From dict of Series'"
      ]
     },
     "metadata": {},
     "output_type": "display_data"
    },
    {
     "data": {
      "text/plain": [
       "['one', 'two']"
      ]
     },
     "metadata": {},
     "output_type": "display_data"
    },
    {
     "data": {
      "text/plain": [
       "{'one': dtype('float64'), 'two': dtype('float64')}"
      ]
     },
     "metadata": {},
     "output_type": "display_data"
    },
    {
     "data": {
      "text/plain": [
       "{'one': 'f', 'two': 'f'}"
      ]
     },
     "metadata": {},
     "output_type": "display_data"
    },
    {
     "data": {
      "text/plain": [
       "['one', 'two']"
      ]
     },
     "metadata": {},
     "output_type": "display_data"
    },
    {
     "data": {
      "text/plain": [
       "None"
      ]
     },
     "metadata": {},
     "output_type": "display_data"
    },
    {
     "data": {
      "text/html": [
       "<div>\n",
       "<style scoped>\n",
       "    .dataframe tbody tr th:only-of-type {\n",
       "        vertical-align: middle;\n",
       "    }\n",
       "\n",
       "    .dataframe tbody tr th {\n",
       "        vertical-align: top;\n",
       "    }\n",
       "\n",
       "    .dataframe thead th {\n",
       "        text-align: right;\n",
       "    }\n",
       "</style>\n",
       "<table border=\"1\" class=\"dataframe\">\n",
       "  <thead>\n",
       "    <tr style=\"text-align: right;\">\n",
       "      <th></th>\n",
       "      <th>one</th>\n",
       "      <th>two</th>\n",
       "    </tr>\n",
       "  </thead>\n",
       "  <tbody>\n",
       "    <tr>\n",
       "      <th>a</th>\n",
       "      <td>1.0</td>\n",
       "      <td>1.0</td>\n",
       "    </tr>\n",
       "    <tr>\n",
       "      <th>b</th>\n",
       "      <td>2.0</td>\n",
       "      <td>2.0</td>\n",
       "    </tr>\n",
       "    <tr>\n",
       "      <th>c</th>\n",
       "      <td>3.0</td>\n",
       "      <td>3.0</td>\n",
       "    </tr>\n",
       "  </tbody>\n",
       "</table>\n",
       "</div>"
      ],
      "text/plain": [
       "   one  two\n",
       "a  1.0  1.0\n",
       "b  2.0  2.0\n",
       "c  3.0  3.0"
      ]
     },
     "metadata": {},
     "output_type": "display_data"
    },
    {
     "data": {
      "text/plain": [
       "'From 2d array'"
      ]
     },
     "metadata": {},
     "output_type": "display_data"
    },
    {
     "data": {
      "text/plain": [
       "['Name', 'Age', 'Credit']"
      ]
     },
     "metadata": {},
     "output_type": "display_data"
    },
    {
     "data": {
      "text/plain": [
       "{'Name': dtype('O'), 'Age': dtype('O'), 'Credit': dtype('O')}"
      ]
     },
     "metadata": {},
     "output_type": "display_data"
    },
    {
     "data": {
      "text/plain": [
       "{'Name': 'O', 'Age': 'O', 'Credit': 'O'}"
      ]
     },
     "metadata": {},
     "output_type": "display_data"
    },
    {
     "data": {
      "text/plain": [
       "None"
      ]
     },
     "metadata": {},
     "output_type": "display_data"
    },
    {
     "data": {
      "text/plain": [
       "['Name', 'Age', 'Credit']"
      ]
     },
     "metadata": {},
     "output_type": "display_data"
    },
    {
     "data": {
      "text/html": [
       "<div>\n",
       "<style scoped>\n",
       "    .dataframe tbody tr th:only-of-type {\n",
       "        vertical-align: middle;\n",
       "    }\n",
       "\n",
       "    .dataframe tbody tr th {\n",
       "        vertical-align: top;\n",
       "    }\n",
       "\n",
       "    .dataframe thead th {\n",
       "        text-align: right;\n",
       "    }\n",
       "</style>\n",
       "<table border=\"1\" class=\"dataframe\">\n",
       "  <thead>\n",
       "    <tr style=\"text-align: right;\">\n",
       "      <th></th>\n",
       "      <th>Name</th>\n",
       "      <th>Age</th>\n",
       "      <th>Credit</th>\n",
       "    </tr>\n",
       "  </thead>\n",
       "  <tbody>\n",
       "    <tr>\n",
       "      <th>0</th>\n",
       "      <td>John</td>\n",
       "      <td>nan</td>\n",
       "      <td>nan</td>\n",
       "    </tr>\n",
       "    <tr>\n",
       "      <th>1</th>\n",
       "      <td>Andrea</td>\n",
       "      <td>23</td>\n",
       "      <td>400</td>\n",
       "    </tr>\n",
       "    <tr>\n",
       "      <th>2</th>\n",
       "      <td>Rose</td>\n",
       "      <td>25</td>\n",
       "      <td>nan</td>\n",
       "    </tr>\n",
       "  </tbody>\n",
       "</table>\n",
       "</div>"
      ],
      "text/plain": [
       "     Name  Age Credit\n",
       "0    John  nan    nan\n",
       "1  Andrea   23    400\n",
       "2    Rose   25    nan"
      ]
     },
     "metadata": {},
     "output_type": "display_data"
    }
   ],
   "source": [
    "from io import BytesIO\n",
    "from pathlib import Path\n",
    "\n",
    "\n",
    "def load_show(path_or_buf, extension=None, n=3, label=None, **kwargs):\n",
    "    df = pk.DataFrameParser(\n",
    "        path_or_buf=path_or_buf,\n",
    "        extension=extension,\n",
    "        **kwargs,\n",
    "    )\n",
    "    if label:\n",
    "        display(f\"From {label}\")\n",
    "\n",
    "    display(df.get_column_names())\n",
    "    display(df.get_column_types())\n",
    "    display(df.get_column_types(parsed=True))\n",
    "    display(df.get_numeric_columns())\n",
    "    display(df.get_non_numeric_columns())\n",
    "    display(df.head(n))\n",
    "\n",
    "\n",
    "# from a Buffered Input Stream\n",
    "f = BytesIO(b\"a,b,c\\n1,2,3\\n4,5,6\\n7,8,9\")\n",
    "load_show(f, extension=\"csv\", label=\"BytesIO\")\n",
    "\n",
    "# from a csv file\n",
    "f = Path(\"./sample_data/airline_bumping.csv\")\n",
    "print(f)\n",
    "load_show(f, n=4, label=\"csv\")\n",
    "\n",
    "# from a pickle file\n",
    "f = Path(\"./sample_data/stations.pickle\")\n",
    "load_show(f, n=5, label=\"pickle\")\n",
    "\n",
    "# from a parquet file\n",
    "f = Path(\"./sample_data/Flights 1m.parquet\")\n",
    "load_show(f, n=3, label=\"parquet\")\n",
    "\n",
    "# from a dictionary\n",
    "data = {\n",
    "    \"Name\": [\"John\", \"Andrea\", \"Rose\", \"Linda\", \"Peter\", \"Meg\"],\n",
    "    \"Age\": [np.nan, 23, 25, 50, np.nan, 50],\n",
    "    \"Credit\": [np.nan, 400, np.nan, 50, 200, np.nan],\n",
    "}\n",
    "load_show(data, n=3, label=\"dict\")\n",
    "\n",
    "# from a list of dictionaries\n",
    "data = [\n",
    "    {\"Name\": \"John\", \"Age\": np.nan, \"Credit\": np.nan},\n",
    "    {\"Name\": \"Andrea\", \"Age\": 23, \"Credit\": 400},\n",
    "    {\"Name\": \"Rose\", \"Age\": 25, \"Credit\": np.nan},\n",
    "    {\"Name\": \"Linda\", \"Age\": 50, \"Credit\": 50},\n",
    "    {\"Name\": \"Peter\", \"Age\": np.nan, \"Credit\": 200},\n",
    "    {\"Name\": \"Meg\", \"Age\": 50, \"Credit\": np.nan},\n",
    "]\n",
    "load_show(data, label=\"list of dicts\")\n",
    "\n",
    "# from a dictionary of Series\n",
    "data = {\n",
    "    \"one\": pd.Series([1.0, 2.0, 3.0], index=[\"a\", \"b\", \"c\"]),\n",
    "    \"two\": pd.Series([1.0, 2.0, 3.0, 4.0], index=[\"a\", \"b\", \"c\", \"d\"]),\n",
    "}\n",
    "load_show(data, label=\"dict of Series\")\n",
    "\n",
    "# from a 2d array\n",
    "data = np.array(\n",
    "    [\n",
    "        [\"John\", \"Andrea\", \"Rose\", \"Linda\", \"Peter\", \"Meg\"],\n",
    "        [np.nan, 23, 25, 50, np.nan, 50],\n",
    "        [np.nan, 400, np.nan, 50, 200, np.nan],\n",
    "    ]\n",
    ")\n",
    "\n",
    "data = data.T\n",
    "load_show(data, label=\"2d array\", columns=[\"Name\", \"Age\", \"Credit\"])\n",
    "\n",
    "\n",
    "# ToDo => add tests for JSON and EXCEL"
   ]
  },
  {
   "cell_type": "markdown",
   "metadata": {},
   "source": [
    "# Helper Functions\n"
   ]
  },
  {
   "cell_type": "code",
   "execution_count": 14,
   "metadata": {},
   "outputs": [],
   "source": [
    "from result import Result\n",
    "\n",
    "\n",
    "def unwrap_value_or_error(result: Result):\n",
    "    if result.is_ok():\n",
    "        return result.unwrap()\n",
    "    return result.unwrap_err()\n",
    "\n",
    "\n",
    "def init_df_sample(sample_number: int = 1):\n",
    "    if sample_number < 0 or sample_number > 4:\n",
    "        raise ValueError(\"sample_number must be between 0 and 4\")\n",
    "\n",
    "    data = {\n",
    "        \"Name\": [\"John\", \"Andrea\", \"Rose\", \"Linda\", \"Peter\", \"Meg\"],\n",
    "        \"Age\": [np.nan, 200, 25, 50, np.nan, 50],\n",
    "        \"Credit\": [np.nan, 400, np.nan, 200_00_00, 1_000_000, np.nan],\n",
    "    }\n",
    "    samples = {\n",
    "        1: data,\n",
    "        2: \"./sample_data/airline_bumping.csv\",\n",
    "        3: \"./sample_data/Flights 1m.parquet\",\n",
    "        4: \"./sample_data/stations.pickle\",\n",
    "    }\n",
    "\n",
    "    return pk.DataFrameParser(path_or_buf=samples[sample_number])"
   ]
  },
  {
   "cell_type": "markdown",
   "metadata": {},
   "source": [
    "# Data Cleansing\n"
   ]
  },
  {
   "cell_type": "markdown",
   "metadata": {},
   "source": [
    "## Handling Missing Values\n"
   ]
  },
  {
   "cell_type": "code",
   "execution_count": 15,
   "metadata": {},
   "outputs": [
    {
     "data": {
      "text/html": [
       "<div>\n",
       "<style scoped>\n",
       "    .dataframe tbody tr th:only-of-type {\n",
       "        vertical-align: middle;\n",
       "    }\n",
       "\n",
       "    .dataframe tbody tr th {\n",
       "        vertical-align: top;\n",
       "    }\n",
       "\n",
       "    .dataframe thead th {\n",
       "        text-align: right;\n",
       "    }\n",
       "</style>\n",
       "<table border=\"1\" class=\"dataframe\">\n",
       "  <thead>\n",
       "    <tr style=\"text-align: right;\">\n",
       "      <th></th>\n",
       "      <th>Name</th>\n",
       "      <th>Age</th>\n",
       "      <th>Credit</th>\n",
       "    </tr>\n",
       "  </thead>\n",
       "  <tbody>\n",
       "    <tr>\n",
       "      <th>0</th>\n",
       "      <td>John</td>\n",
       "      <td>NaN</td>\n",
       "      <td>NaN</td>\n",
       "    </tr>\n",
       "    <tr>\n",
       "      <th>1</th>\n",
       "      <td>Andrea</td>\n",
       "      <td>200.0</td>\n",
       "      <td>400.0</td>\n",
       "    </tr>\n",
       "    <tr>\n",
       "      <th>2</th>\n",
       "      <td>Rose</td>\n",
       "      <td>25.0</td>\n",
       "      <td>NaN</td>\n",
       "    </tr>\n",
       "    <tr>\n",
       "      <th>3</th>\n",
       "      <td>Linda</td>\n",
       "      <td>50.0</td>\n",
       "      <td>2000000.0</td>\n",
       "    </tr>\n",
       "    <tr>\n",
       "      <th>4</th>\n",
       "      <td>Peter</td>\n",
       "      <td>NaN</td>\n",
       "      <td>1000000.0</td>\n",
       "    </tr>\n",
       "    <tr>\n",
       "      <th>5</th>\n",
       "      <td>Meg</td>\n",
       "      <td>50.0</td>\n",
       "      <td>NaN</td>\n",
       "    </tr>\n",
       "  </tbody>\n",
       "</table>\n",
       "</div>"
      ],
      "text/plain": [
       "     Name    Age     Credit\n",
       "0    John    NaN        NaN\n",
       "1  Andrea  200.0      400.0\n",
       "2    Rose   25.0        NaN\n",
       "3   Linda   50.0  2000000.0\n",
       "4   Peter    NaN  1000000.0\n",
       "5     Meg   50.0        NaN"
      ]
     },
     "metadata": {},
     "output_type": "display_data"
    }
   ],
   "source": [
    "df = init_df_sample()\n",
    "display(df)\n",
    "# bug in MODE doesn't fill all NaNs\n",
    "mvp = pk.MissingValuesProcessor(strategy=pk.MissingValueStrategy.MEDIAN)\n",
    "result = mvp.fit_transform(df)\n",
    "\n",
    "if result.is_err():\n",
    "    raise ValueError(\n",
    "        \"Operation must be done for later operation (Outliers Detection)\"\n",
    "    )\n",
    "\n",
    "df = result.unwrap()"
   ]
  },
  {
   "cell_type": "markdown",
   "metadata": {},
   "source": [
    "## Handling Outliers\n"
   ]
  },
  {
   "cell_type": "code",
   "execution_count": 16,
   "metadata": {},
   "outputs": [
    {
     "data": {
      "text/html": [
       "<div>\n",
       "<style scoped>\n",
       "    .dataframe tbody tr th:only-of-type {\n",
       "        vertical-align: middle;\n",
       "    }\n",
       "\n",
       "    .dataframe tbody tr th {\n",
       "        vertical-align: top;\n",
       "    }\n",
       "\n",
       "    .dataframe thead th {\n",
       "        text-align: right;\n",
       "    }\n",
       "</style>\n",
       "<table border=\"1\" class=\"dataframe\">\n",
       "  <thead>\n",
       "    <tr style=\"text-align: right;\">\n",
       "      <th></th>\n",
       "      <th>Name</th>\n",
       "      <th>Age</th>\n",
       "      <th>Credit</th>\n",
       "    </tr>\n",
       "  </thead>\n",
       "  <tbody>\n",
       "    <tr>\n",
       "      <th>0</th>\n",
       "      <td>John</td>\n",
       "      <td>50.0</td>\n",
       "      <td>1000000.0</td>\n",
       "    </tr>\n",
       "    <tr>\n",
       "      <th>1</th>\n",
       "      <td>Andrea</td>\n",
       "      <td>200.0</td>\n",
       "      <td>400.0</td>\n",
       "    </tr>\n",
       "    <tr>\n",
       "      <th>2</th>\n",
       "      <td>Rose</td>\n",
       "      <td>25.0</td>\n",
       "      <td>1000000.0</td>\n",
       "    </tr>\n",
       "    <tr>\n",
       "      <th>3</th>\n",
       "      <td>Linda</td>\n",
       "      <td>50.0</td>\n",
       "      <td>2000000.0</td>\n",
       "    </tr>\n",
       "    <tr>\n",
       "      <th>4</th>\n",
       "      <td>Peter</td>\n",
       "      <td>50.0</td>\n",
       "      <td>1000000.0</td>\n",
       "    </tr>\n",
       "    <tr>\n",
       "      <th>5</th>\n",
       "      <td>Meg</td>\n",
       "      <td>50.0</td>\n",
       "      <td>1000000.0</td>\n",
       "    </tr>\n",
       "  </tbody>\n",
       "</table>\n",
       "</div>"
      ],
      "text/plain": [
       "     Name    Age     Credit\n",
       "0    John   50.0  1000000.0\n",
       "1  Andrea  200.0      400.0\n",
       "2    Rose   25.0  1000000.0\n",
       "3   Linda   50.0  2000000.0\n",
       "4   Peter   50.0  1000000.0\n",
       "5     Meg   50.0  1000000.0"
      ]
     },
     "metadata": {},
     "output_type": "display_data"
    },
    {
     "name": "stderr",
     "output_type": "stream",
     "text": [
      "\u001b[32;10m2023-12-18 02:50:51,146 (data_cleansing.py:606) - INFO: \u001b[0mNumber of outliers detected: 2 in Feature Age\n",
      "\u001b[32;10m2023-12-18 02:50:51,148 (data_cleansing.py:610) - INFO: \u001b[0mProportion of outlier detected: 33.3%\n"
     ]
    },
    {
     "data": {
      "text/html": [
       "<div>\n",
       "<style scoped>\n",
       "    .dataframe tbody tr th:only-of-type {\n",
       "        vertical-align: middle;\n",
       "    }\n",
       "\n",
       "    .dataframe tbody tr th {\n",
       "        vertical-align: top;\n",
       "    }\n",
       "\n",
       "    .dataframe thead th {\n",
       "        text-align: right;\n",
       "    }\n",
       "</style>\n",
       "<table border=\"1\" class=\"dataframe\">\n",
       "  <thead>\n",
       "    <tr style=\"text-align: right;\">\n",
       "      <th></th>\n",
       "      <th>Name</th>\n",
       "      <th>Age</th>\n",
       "      <th>Credit</th>\n",
       "      <th>Age_isOutlier_Z_SCORE</th>\n",
       "    </tr>\n",
       "  </thead>\n",
       "  <tbody>\n",
       "    <tr>\n",
       "      <th>0</th>\n",
       "      <td>John</td>\n",
       "      <td>50.0</td>\n",
       "      <td>1000000.0</td>\n",
       "      <td>0</td>\n",
       "    </tr>\n",
       "    <tr>\n",
       "      <th>1</th>\n",
       "      <td>Andrea</td>\n",
       "      <td>50.0</td>\n",
       "      <td>400.0</td>\n",
       "      <td>1</td>\n",
       "    </tr>\n",
       "    <tr>\n",
       "      <th>2</th>\n",
       "      <td>Rose</td>\n",
       "      <td>50.0</td>\n",
       "      <td>1000000.0</td>\n",
       "      <td>1</td>\n",
       "    </tr>\n",
       "    <tr>\n",
       "      <th>3</th>\n",
       "      <td>Linda</td>\n",
       "      <td>50.0</td>\n",
       "      <td>2000000.0</td>\n",
       "      <td>0</td>\n",
       "    </tr>\n",
       "    <tr>\n",
       "      <th>4</th>\n",
       "      <td>Peter</td>\n",
       "      <td>50.0</td>\n",
       "      <td>1000000.0</td>\n",
       "      <td>0</td>\n",
       "    </tr>\n",
       "    <tr>\n",
       "      <th>5</th>\n",
       "      <td>Meg</td>\n",
       "      <td>50.0</td>\n",
       "      <td>1000000.0</td>\n",
       "      <td>0</td>\n",
       "    </tr>\n",
       "  </tbody>\n",
       "</table>\n",
       "</div>"
      ],
      "text/plain": [
       "     Name   Age     Credit  Age_isOutlier_Z_SCORE\n",
       "0    John  50.0  1000000.0                      0\n",
       "1  Andrea  50.0      400.0                      1\n",
       "2    Rose  50.0  1000000.0                      1\n",
       "3   Linda  50.0  2000000.0                      0\n",
       "4   Peter  50.0  1000000.0                      0\n",
       "5     Meg  50.0  1000000.0                      0"
      ]
     },
     "execution_count": 16,
     "metadata": {},
     "output_type": "execute_result"
    }
   ],
   "source": [
    "display(df)\n",
    "op = pk.OutliersProcessor(\n",
    "    pk.OutlierDetectionMethod.Z_SCORE,\n",
    "    threshold=3,\n",
    "    verbose=True,\n",
    "    add_indicator=True,\n",
    ")\n",
    "df = op.fit_transform(df, columns=[\"Age\"]).unwrap()\n",
    "\n",
    "df"
   ]
  },
  {
   "cell_type": "markdown",
   "metadata": {},
   "source": [
    "# Encoding Features\n"
   ]
  },
  {
   "cell_type": "code",
   "execution_count": 17,
   "metadata": {},
   "outputs": [
    {
     "data": {
      "text/html": [
       "<div>\n",
       "<style scoped>\n",
       "    .dataframe tbody tr th:only-of-type {\n",
       "        vertical-align: middle;\n",
       "    }\n",
       "\n",
       "    .dataframe tbody tr th {\n",
       "        vertical-align: top;\n",
       "    }\n",
       "\n",
       "    .dataframe thead th {\n",
       "        text-align: right;\n",
       "    }\n",
       "</style>\n",
       "<table border=\"1\" class=\"dataframe\">\n",
       "  <thead>\n",
       "    <tr style=\"text-align: right;\">\n",
       "      <th></th>\n",
       "      <th>Age</th>\n",
       "      <th>Credit</th>\n",
       "      <th>Age_isOutlier_Z_SCORE</th>\n",
       "      <th>Name_Andrea</th>\n",
       "      <th>Name_John</th>\n",
       "      <th>Name_Linda</th>\n",
       "      <th>Name_Meg</th>\n",
       "      <th>Name_Peter</th>\n",
       "      <th>Name_Rose</th>\n",
       "    </tr>\n",
       "  </thead>\n",
       "  <tbody>\n",
       "    <tr>\n",
       "      <th>0</th>\n",
       "      <td>50.0</td>\n",
       "      <td>1000000.0</td>\n",
       "      <td>0</td>\n",
       "      <td>0.0</td>\n",
       "      <td>1.0</td>\n",
       "      <td>0.0</td>\n",
       "      <td>0.0</td>\n",
       "      <td>0.0</td>\n",
       "      <td>0.0</td>\n",
       "    </tr>\n",
       "    <tr>\n",
       "      <th>1</th>\n",
       "      <td>50.0</td>\n",
       "      <td>400.0</td>\n",
       "      <td>1</td>\n",
       "      <td>1.0</td>\n",
       "      <td>0.0</td>\n",
       "      <td>0.0</td>\n",
       "      <td>0.0</td>\n",
       "      <td>0.0</td>\n",
       "      <td>0.0</td>\n",
       "    </tr>\n",
       "    <tr>\n",
       "      <th>2</th>\n",
       "      <td>50.0</td>\n",
       "      <td>1000000.0</td>\n",
       "      <td>1</td>\n",
       "      <td>0.0</td>\n",
       "      <td>0.0</td>\n",
       "      <td>0.0</td>\n",
       "      <td>0.0</td>\n",
       "      <td>0.0</td>\n",
       "      <td>1.0</td>\n",
       "    </tr>\n",
       "    <tr>\n",
       "      <th>3</th>\n",
       "      <td>50.0</td>\n",
       "      <td>2000000.0</td>\n",
       "      <td>0</td>\n",
       "      <td>0.0</td>\n",
       "      <td>0.0</td>\n",
       "      <td>1.0</td>\n",
       "      <td>0.0</td>\n",
       "      <td>0.0</td>\n",
       "      <td>0.0</td>\n",
       "    </tr>\n",
       "    <tr>\n",
       "      <th>4</th>\n",
       "      <td>50.0</td>\n",
       "      <td>1000000.0</td>\n",
       "      <td>0</td>\n",
       "      <td>0.0</td>\n",
       "      <td>0.0</td>\n",
       "      <td>0.0</td>\n",
       "      <td>0.0</td>\n",
       "      <td>1.0</td>\n",
       "      <td>0.0</td>\n",
       "    </tr>\n",
       "    <tr>\n",
       "      <th>5</th>\n",
       "      <td>50.0</td>\n",
       "      <td>1000000.0</td>\n",
       "      <td>0</td>\n",
       "      <td>0.0</td>\n",
       "      <td>0.0</td>\n",
       "      <td>0.0</td>\n",
       "      <td>1.0</td>\n",
       "      <td>0.0</td>\n",
       "      <td>0.0</td>\n",
       "    </tr>\n",
       "  </tbody>\n",
       "</table>\n",
       "</div>"
      ],
      "text/plain": [
       "    Age     Credit  Age_isOutlier_Z_SCORE  Name_Andrea  Name_John  Name_Linda  \\\n",
       "0  50.0  1000000.0                      0          0.0        1.0         0.0   \n",
       "1  50.0      400.0                      1          1.0        0.0         0.0   \n",
       "2  50.0  1000000.0                      1          0.0        0.0         0.0   \n",
       "3  50.0  2000000.0                      0          0.0        0.0         1.0   \n",
       "4  50.0  1000000.0                      0          0.0        0.0         0.0   \n",
       "5  50.0  1000000.0                      0          0.0        0.0         0.0   \n",
       "\n",
       "   Name_Meg  Name_Peter  Name_Rose  \n",
       "0       0.0         0.0        0.0  \n",
       "1       0.0         0.0        0.0  \n",
       "2       0.0         0.0        1.0  \n",
       "3       0.0         0.0        0.0  \n",
       "4       0.0         1.0        0.0  \n",
       "5       1.0         0.0        0.0  "
      ]
     },
     "execution_count": 17,
     "metadata": {},
     "output_type": "execute_result"
    }
   ],
   "source": [
    "enc = pk.EncodingProcessor(\n",
    "    pk.EncodingStrategies.OneHotEncoder,\n",
    "    verbose=True,\n",
    "    sparse_output=True,\n",
    ")\n",
    "cols = [\"Name\"]\n",
    "enc.fit_transform(df, columns=cols).unwrap()"
   ]
  },
  {
   "cell_type": "markdown",
   "metadata": {},
   "source": [
    "# Filtering Data\n"
   ]
  },
  {
   "cell_type": "code",
   "execution_count": 29,
   "metadata": {},
   "outputs": [
    {
     "name": "stderr",
     "output_type": "stream",
     "text": [
      "\u001b[32;10m2023-12-18 02:52:05,741 (data_filtering.py:105) - INFO: \u001b[0mFiltering data by => [year.str.contains('2016', case=False)]\n"
     ]
    },
    {
     "data": {
      "text/html": [
       "<div>\n",
       "<style scoped>\n",
       "    .dataframe tbody tr th:only-of-type {\n",
       "        vertical-align: middle;\n",
       "    }\n",
       "\n",
       "    .dataframe tbody tr th {\n",
       "        vertical-align: top;\n",
       "    }\n",
       "\n",
       "    .dataframe thead th {\n",
       "        text-align: right;\n",
       "    }\n",
       "</style>\n",
       "<table border=\"1\" class=\"dataframe\">\n",
       "  <thead>\n",
       "    <tr style=\"text-align: right;\">\n",
       "      <th></th>\n",
       "      <th>airline</th>\n",
       "      <th>year</th>\n",
       "      <th>nb_bumped</th>\n",
       "      <th>total_passengers</th>\n",
       "    </tr>\n",
       "  </thead>\n",
       "  <tbody>\n",
       "    <tr>\n",
       "      <th>12</th>\n",
       "      <td>DELTA AIR LINES</td>\n",
       "      <td>2016</td>\n",
       "      <td>912</td>\n",
       "      <td>97237060</td>\n",
       "    </tr>\n",
       "    <tr>\n",
       "      <th>13</th>\n",
       "      <td>VIRGIN AMERICA</td>\n",
       "      <td>2016</td>\n",
       "      <td>77</td>\n",
       "      <td>5927938</td>\n",
       "    </tr>\n",
       "    <tr>\n",
       "      <th>14</th>\n",
       "      <td>JETBLUE AIRWAYS</td>\n",
       "      <td>2016</td>\n",
       "      <td>2140</td>\n",
       "      <td>25990828</td>\n",
       "    </tr>\n",
       "    <tr>\n",
       "      <th>15</th>\n",
       "      <td>UNITED AIRLINES</td>\n",
       "      <td>2016</td>\n",
       "      <td>2874</td>\n",
       "      <td>64438132</td>\n",
       "    </tr>\n",
       "    <tr>\n",
       "      <th>16</th>\n",
       "      <td>HAWAIIAN AIRLINES</td>\n",
       "      <td>2016</td>\n",
       "      <td>30</td>\n",
       "      <td>8154838</td>\n",
       "    </tr>\n",
       "    <tr>\n",
       "      <th>17</th>\n",
       "      <td>EXPRESSJET AIRLINES</td>\n",
       "      <td>2016</td>\n",
       "      <td>2541</td>\n",
       "      <td>16119866</td>\n",
       "    </tr>\n",
       "    <tr>\n",
       "      <th>18</th>\n",
       "      <td>SKYWEST AIRLINES</td>\n",
       "      <td>2016</td>\n",
       "      <td>2177</td>\n",
       "      <td>22575383</td>\n",
       "    </tr>\n",
       "    <tr>\n",
       "      <th>19</th>\n",
       "      <td>AMERICAN AIRLINES</td>\n",
       "      <td>2016</td>\n",
       "      <td>6598</td>\n",
       "      <td>99348093</td>\n",
       "    </tr>\n",
       "    <tr>\n",
       "      <th>20</th>\n",
       "      <td>ALASKA AIRLINES</td>\n",
       "      <td>2016</td>\n",
       "      <td>734</td>\n",
       "      <td>17725197</td>\n",
       "    </tr>\n",
       "    <tr>\n",
       "      <th>21</th>\n",
       "      <td>SOUTHWEST AIRLINES</td>\n",
       "      <td>2016</td>\n",
       "      <td>11907</td>\n",
       "      <td>112153048</td>\n",
       "    </tr>\n",
       "    <tr>\n",
       "      <th>22</th>\n",
       "      <td>FRONTIER AIRLINES</td>\n",
       "      <td>2016</td>\n",
       "      <td>688</td>\n",
       "      <td>10895052</td>\n",
       "    </tr>\n",
       "    <tr>\n",
       "      <th>23</th>\n",
       "      <td>SPIRIT AIRLINES</td>\n",
       "      <td>2016</td>\n",
       "      <td>1418</td>\n",
       "      <td>15234924</td>\n",
       "    </tr>\n",
       "  </tbody>\n",
       "</table>\n",
       "</div>"
      ],
      "text/plain": [
       "                airline  year nb_bumped total_passengers\n",
       "12      DELTA AIR LINES  2016       912         97237060\n",
       "13       VIRGIN AMERICA  2016        77          5927938\n",
       "14      JETBLUE AIRWAYS  2016      2140         25990828\n",
       "15      UNITED AIRLINES  2016      2874         64438132\n",
       "16    HAWAIIAN AIRLINES  2016        30          8154838\n",
       "17  EXPRESSJET AIRLINES  2016      2541         16119866\n",
       "18     SKYWEST AIRLINES  2016      2177         22575383\n",
       "19    AMERICAN AIRLINES  2016      6598         99348093\n",
       "20      ALASKA AIRLINES  2016       734         17725197\n",
       "21   SOUTHWEST AIRLINES  2016     11907        112153048\n",
       "22    FRONTIER AIRLINES  2016       688         10895052\n",
       "23      SPIRIT AIRLINES  2016      1418         15234924"
      ]
     },
     "execution_count": 29,
     "metadata": {},
     "output_type": "execute_result"
    }
   ],
   "source": [
    "df = init_df_sample(2)\n",
    "col: str = \"year\"\n",
    "# display(df)\n",
    "bf = pk.BasicFilteringProcessor(\n",
    "    \"in\",\n",
    "    value=\"2016\",\n",
    "    case_sensitive=False,\n",
    "    verbose=True,\n",
    ")\n",
    "\n",
    "# bf\n",
    "res = bf.fit_transform(df, column=col)\n",
    "\n",
    "unwrap_value_or_error(res)\n",
    "# result_unpacked = result.unwrap()\n",
    "# print(result_unpacked)\n",
    "# bf\n",
    "# display(df)\n",
    "\n",
    "\n",
    "# bf.set_params(operator=pk.FilterOperator.EQUAL, value=50)\n",
    "# display(bf.fit_transform(df, column=\"Age\"))"
   ]
  },
  {
   "cell_type": "markdown",
   "metadata": {},
   "source": [
    "# String Modifications\n"
   ]
  },
  {
   "cell_type": "code",
   "execution_count": 19,
   "metadata": {},
   "outputs": [
    {
     "data": {
      "text/html": [
       "<div>\n",
       "<style scoped>\n",
       "    .dataframe tbody tr th:only-of-type {\n",
       "        vertical-align: middle;\n",
       "    }\n",
       "\n",
       "    .dataframe tbody tr th {\n",
       "        vertical-align: top;\n",
       "    }\n",
       "\n",
       "    .dataframe thead th {\n",
       "        text-align: right;\n",
       "    }\n",
       "</style>\n",
       "<table border=\"1\" class=\"dataframe\">\n",
       "  <thead>\n",
       "    <tr style=\"text-align: right;\">\n",
       "      <th></th>\n",
       "      <th>Name</th>\n",
       "      <th>Age</th>\n",
       "      <th>Credit</th>\n",
       "    </tr>\n",
       "  </thead>\n",
       "  <tbody>\n",
       "    <tr>\n",
       "      <th>0</th>\n",
       "      <td>John   .!,@</td>\n",
       "      <td>NaN</td>\n",
       "      <td>NaN</td>\n",
       "    </tr>\n",
       "    <tr>\n",
       "      <th>1</th>\n",
       "      <td>#A nd@rea$</td>\n",
       "      <td>200.0</td>\n",
       "      <td>400.0</td>\n",
       "    </tr>\n",
       "    <tr>\n",
       "      <th>2</th>\n",
       "      <td>Rose</td>\n",
       "      <td>25.0</td>\n",
       "      <td>NaN</td>\n",
       "    </tr>\n",
       "    <tr>\n",
       "      <th>3</th>\n",
       "      <td>L0ind9a</td>\n",
       "      <td>50.0</td>\n",
       "      <td>2000000.0</td>\n",
       "    </tr>\n",
       "    <tr>\n",
       "      <th>4</th>\n",
       "      <td>P!e1t@e_r</td>\n",
       "      <td>NaN</td>\n",
       "      <td>1000000.0</td>\n",
       "    </tr>\n",
       "    <tr>\n",
       "      <th>5</th>\n",
       "      <td>M+e - g$</td>\n",
       "      <td>50.0</td>\n",
       "      <td>NaN</td>\n",
       "    </tr>\n",
       "  </tbody>\n",
       "</table>\n",
       "</div>"
      ],
      "text/plain": [
       "               Name    Age     Credit\n",
       "0     John   .!,@      NaN        NaN\n",
       "1        #A nd@rea$  200.0      400.0\n",
       "2              Rose   25.0        NaN\n",
       "3           L0ind9a   50.0  2000000.0\n",
       "4         P!e1t@e_r    NaN  1000000.0\n",
       "5          M+e - g$   50.0        NaN"
      ]
     },
     "metadata": {},
     "output_type": "display_data"
    },
    {
     "data": {
      "text/html": [
       "<div>\n",
       "<style scoped>\n",
       "    .dataframe tbody tr th:only-of-type {\n",
       "        vertical-align: middle;\n",
       "    }\n",
       "\n",
       "    .dataframe tbody tr th {\n",
       "        vertical-align: top;\n",
       "    }\n",
       "\n",
       "    .dataframe thead th {\n",
       "        text-align: right;\n",
       "    }\n",
       "</style>\n",
       "<table border=\"1\" class=\"dataframe\">\n",
       "  <thead>\n",
       "    <tr style=\"text-align: right;\">\n",
       "      <th></th>\n",
       "      <th>Name</th>\n",
       "      <th>Age</th>\n",
       "      <th>Credit</th>\n",
       "    </tr>\n",
       "  </thead>\n",
       "  <tbody>\n",
       "    <tr>\n",
       "      <th>0</th>\n",
       "      <td>John</td>\n",
       "      <td>NaN</td>\n",
       "      <td>NaN</td>\n",
       "    </tr>\n",
       "    <tr>\n",
       "      <th>1</th>\n",
       "      <td>Andrea</td>\n",
       "      <td>200.0</td>\n",
       "      <td>400.0</td>\n",
       "    </tr>\n",
       "    <tr>\n",
       "      <th>2</th>\n",
       "      <td>Rose</td>\n",
       "      <td>25.0</td>\n",
       "      <td>NaN</td>\n",
       "    </tr>\n",
       "    <tr>\n",
       "      <th>3</th>\n",
       "      <td>Linda</td>\n",
       "      <td>50.0</td>\n",
       "      <td>2000000.0</td>\n",
       "    </tr>\n",
       "    <tr>\n",
       "      <th>4</th>\n",
       "      <td>Peter</td>\n",
       "      <td>NaN</td>\n",
       "      <td>1000000.0</td>\n",
       "    </tr>\n",
       "    <tr>\n",
       "      <th>5</th>\n",
       "      <td>Meg</td>\n",
       "      <td>50.0</td>\n",
       "      <td>NaN</td>\n",
       "    </tr>\n",
       "  </tbody>\n",
       "</table>\n",
       "</div>"
      ],
      "text/plain": [
       "     Name    Age     Credit\n",
       "0    John    NaN        NaN\n",
       "1  Andrea  200.0      400.0\n",
       "2    Rose   25.0        NaN\n",
       "3   Linda   50.0  2000000.0\n",
       "4   Peter    NaN  1000000.0\n",
       "5     Meg   50.0        NaN"
      ]
     },
     "execution_count": 19,
     "metadata": {},
     "output_type": "execute_result"
    }
   ],
   "source": [
    "data = {\n",
    "    \"Name\": [\n",
    "        \"   John   .!,@  \",\n",
    "        \"#A nd@rea$\",\n",
    "        \"Rose\",\n",
    "        \"L0ind9a\",\n",
    "        \"P!e1t@e_r\",\n",
    "        \"M+e - g$\",\n",
    "    ],\n",
    "    \"Age\": [np.nan, 200, 25, 50, np.nan, 50],\n",
    "    \"Credit\": [np.nan, 400, np.nan, 200_00_00, 1_000_000, np.nan],\n",
    "}\n",
    "df = pk.DataFrameParser(data)\n",
    "\n",
    "sop = pk.StringOperationsProcessor(\n",
    "    \"title\",\n",
    "    trim=True,\n",
    "    remove_letters=False,\n",
    "    remove_whitespace=True,\n",
    "    remove_numbers=True,\n",
    "    remove_punctuation=True,\n",
    "    verbose=False,\n",
    ")\n",
    "\n",
    "\n",
    "display(df)\n",
    "result = sop.fit_transform(df, columns=[\"Name\"])\n",
    "unwrap_value_or_error(result)"
   ]
  },
  {
   "cell_type": "markdown",
   "metadata": {},
   "source": [
    "# Data Cleanse as a Whole\n"
   ]
  },
  {
   "cell_type": "code",
   "execution_count": 34,
   "metadata": {},
   "outputs": [
    {
     "name": "stderr",
     "output_type": "stream",
     "text": [
      "\u001b[32;10m2023-12-18 04:25:17,773 (data_cleansing.py:972) - INFO: \u001b[0m> Cleansing\n",
      "\u001b[32;10m2023-12-18 04:25:17,775 (data_cleansing.py:175) - INFO: \u001b[0mNo missing values in features.\n",
      "\u001b[32;10m2023-12-18 04:25:17,777 (data_cleansing.py:986) - INFO: \u001b[0m> Outliers\n",
      "/mnt/Storage/Projects/PrediKit/predikit/preprocessing/data_cleansing.py:493: SettingWithCopyWarning: \n",
      "A value is trying to be set on a copy of a slice from a DataFrame.\n",
      "Try using .loc[row_indexer,col_indexer] = value instead\n",
      "\n",
      "See the caveats in the documentation: https://pandas.pydata.org/pandas-docs/stable/user_guide/indexing.html#returning-a-view-versus-a-copy\n",
      "  data[outlier_indicator] = 0\n",
      "/mnt/Storage/Projects/PrediKit/predikit/preprocessing/data_cleansing.py:496: FutureWarning: Setting an item of incompatible dtype is deprecated and will raise in a future error of pandas. Value '20696653.5' has dtype incompatible with int64, please explicitly cast to a compatible dtype first.\n",
      "  data.loc[outliers_mask, column] = data[column].median()\n"
     ]
    },
    {
     "data": {
      "text/html": [
       "<div>\n",
       "<style scoped>\n",
       "    .dataframe tbody tr th:only-of-type {\n",
       "        vertical-align: middle;\n",
       "    }\n",
       "\n",
       "    .dataframe tbody tr th {\n",
       "        vertical-align: top;\n",
       "    }\n",
       "\n",
       "    .dataframe thead th {\n",
       "        text-align: right;\n",
       "    }\n",
       "</style>\n",
       "<table border=\"1\" class=\"dataframe\">\n",
       "  <thead>\n",
       "    <tr style=\"text-align: right;\">\n",
       "      <th></th>\n",
       "      <th>total_passengers</th>\n",
       "      <th>total_passengers_isOutlier_Z_SCORE</th>\n",
       "    </tr>\n",
       "  </thead>\n",
       "  <tbody>\n",
       "    <tr>\n",
       "      <th>0</th>\n",
       "      <td>20696653.5</td>\n",
       "      <td>1</td>\n",
       "    </tr>\n",
       "    <tr>\n",
       "      <th>1</th>\n",
       "      <td>6090029.0</td>\n",
       "      <td>0</td>\n",
       "    </tr>\n",
       "    <tr>\n",
       "      <th>2</th>\n",
       "      <td>27255038.0</td>\n",
       "      <td>0</td>\n",
       "    </tr>\n",
       "    <tr>\n",
       "      <th>3</th>\n",
       "      <td>20696653.5</td>\n",
       "      <td>1</td>\n",
       "    </tr>\n",
       "    <tr>\n",
       "      <th>4</th>\n",
       "      <td>8422734.0</td>\n",
       "      <td>0</td>\n",
       "    </tr>\n",
       "    <tr>\n",
       "      <th>5</th>\n",
       "      <td>11738812.0</td>\n",
       "      <td>0</td>\n",
       "    </tr>\n",
       "    <tr>\n",
       "      <th>6</th>\n",
       "      <td>24516354.0</td>\n",
       "      <td>0</td>\n",
       "    </tr>\n",
       "    <tr>\n",
       "      <th>7</th>\n",
       "      <td>20696653.5</td>\n",
       "      <td>1</td>\n",
       "    </tr>\n",
       "    <tr>\n",
       "      <th>8</th>\n",
       "      <td>18817924.0</td>\n",
       "      <td>0</td>\n",
       "    </tr>\n",
       "    <tr>\n",
       "      <th>9</th>\n",
       "      <td>20696653.5</td>\n",
       "      <td>1</td>\n",
       "    </tr>\n",
       "    <tr>\n",
       "      <th>10</th>\n",
       "      <td>12059943.0</td>\n",
       "      <td>0</td>\n",
       "    </tr>\n",
       "    <tr>\n",
       "      <th>11</th>\n",
       "      <td>17069647.0</td>\n",
       "      <td>0</td>\n",
       "    </tr>\n",
       "    <tr>\n",
       "      <th>12</th>\n",
       "      <td>20696653.5</td>\n",
       "      <td>1</td>\n",
       "    </tr>\n",
       "    <tr>\n",
       "      <th>13</th>\n",
       "      <td>5927938.0</td>\n",
       "      <td>0</td>\n",
       "    </tr>\n",
       "    <tr>\n",
       "      <th>14</th>\n",
       "      <td>25990828.0</td>\n",
       "      <td>0</td>\n",
       "    </tr>\n",
       "    <tr>\n",
       "      <th>15</th>\n",
       "      <td>20696653.5</td>\n",
       "      <td>1</td>\n",
       "    </tr>\n",
       "    <tr>\n",
       "      <th>16</th>\n",
       "      <td>8154838.0</td>\n",
       "      <td>0</td>\n",
       "    </tr>\n",
       "    <tr>\n",
       "      <th>17</th>\n",
       "      <td>16119866.0</td>\n",
       "      <td>0</td>\n",
       "    </tr>\n",
       "    <tr>\n",
       "      <th>18</th>\n",
       "      <td>22575383.0</td>\n",
       "      <td>0</td>\n",
       "    </tr>\n",
       "    <tr>\n",
       "      <th>19</th>\n",
       "      <td>20696653.5</td>\n",
       "      <td>1</td>\n",
       "    </tr>\n",
       "    <tr>\n",
       "      <th>20</th>\n",
       "      <td>17725197.0</td>\n",
       "      <td>0</td>\n",
       "    </tr>\n",
       "    <tr>\n",
       "      <th>21</th>\n",
       "      <td>20696653.5</td>\n",
       "      <td>1</td>\n",
       "    </tr>\n",
       "    <tr>\n",
       "      <th>22</th>\n",
       "      <td>10895052.0</td>\n",
       "      <td>0</td>\n",
       "    </tr>\n",
       "    <tr>\n",
       "      <th>23</th>\n",
       "      <td>15234924.0</td>\n",
       "      <td>0</td>\n",
       "    </tr>\n",
       "  </tbody>\n",
       "</table>\n",
       "</div>"
      ],
      "text/plain": [
       "    total_passengers  total_passengers_isOutlier_Z_SCORE\n",
       "0         20696653.5                                   1\n",
       "1          6090029.0                                   0\n",
       "2         27255038.0                                   0\n",
       "3         20696653.5                                   1\n",
       "4          8422734.0                                   0\n",
       "5         11738812.0                                   0\n",
       "6         24516354.0                                   0\n",
       "7         20696653.5                                   1\n",
       "8         18817924.0                                   0\n",
       "9         20696653.5                                   1\n",
       "10        12059943.0                                   0\n",
       "11        17069647.0                                   0\n",
       "12        20696653.5                                   1\n",
       "13         5927938.0                                   0\n",
       "14        25990828.0                                   0\n",
       "15        20696653.5                                   1\n",
       "16         8154838.0                                   0\n",
       "17        16119866.0                                   0\n",
       "18        22575383.0                                   0\n",
       "19        20696653.5                                   1\n",
       "20        17725197.0                                   0\n",
       "21        20696653.5                                   1\n",
       "22        10895052.0                                   0\n",
       "23        15234924.0                                   0"
      ]
     },
     "execution_count": 34,
     "metadata": {},
     "output_type": "execute_result"
    }
   ],
   "source": [
    "data = {\n",
    "    \"Name\": [\n",
    "        \"   John   .!,@  \",\n",
    "        \"#A nd@rea$\",\n",
    "        \"Rose\",\n",
    "        \"L0ind9a\",\n",
    "        \"P!e1t@e_r\",\n",
    "        \"M+e - g$\",\n",
    "    ],\n",
    "    \"Age\": [np.nan, 200, 25, 50, np.nan, 50],\n",
    "    \"Credit\": [np.nan, 400, np.nan, 200_00_00, 1_000_000, np.nan],\n",
    "}\n",
    "\n",
    "df = init_df_sample(2)\n",
    "\n",
    "dc = pk.DataCleanser(\n",
    "    missing_clean=True,\n",
    "    missing_strategy=\"median\",\n",
    "    missing_indicator=True,\n",
    "    missing_fill_value=\"\",\n",
    "    outlier_clean=True,\n",
    "    outlier_method=\"z\",\n",
    "    outlier_threshold=1.5,\n",
    "    outlier_indicator=True,\n",
    "    str_trim=True,\n",
    "    str_remove_whitespace=True,\n",
    "    str_remove_letters=True,\n",
    "    str_remove_numbers=True,\n",
    "    str_remove_punctuation=True,\n",
    "    verbose=False,\n",
    ")\n",
    "\n",
    "result = dc.fit_transform(df, columns=[\"total_passengers\"])\n",
    "unwrap_value_or_error(result)"
   ]
  },
  {
   "cell_type": "markdown",
   "metadata": {},
   "source": [
    "# Output Dataset\n"
   ]
  },
  {
   "cell_type": "code",
   "execution_count": 21,
   "metadata": {},
   "outputs": [
    {
     "name": "stderr",
     "output_type": "stream",
     "text": [
      "\u001b[32;10m2023-12-18 02:50:51,279 (output.py:87) - INFO: \u001b[0mExporting to /home/ahmed/predikit_out/out.csv ...\n"
     ]
    },
    {
     "name": "stdout",
     "output_type": "stream",
     "text": [
      "Running on Linux\n"
     ]
    }
   ],
   "source": [
    "import platform\n",
    "\n",
    "print(f\"Running on {platform.system()}\")\n",
    "\n",
    "# cross platform\n",
    "dfe = pk.DataFrameExporter(df, extension=pk.FileExtension.CSV)\n",
    "dfe.export()"
   ]
  },
  {
   "cell_type": "code",
   "execution_count": 22,
   "metadata": {},
   "outputs": [
    {
     "data": {
      "text/plain": [
       "'This results in an empty data frame'"
      ]
     },
     "execution_count": 22,
     "metadata": {},
     "output_type": "execute_result"
    }
   ],
   "source": [
    "from predikit.preprocessing import FeatureSelection\n",
    "\n",
    "data = {\n",
    "    \"Name\": [\"John\", \"Andrea\", \"Rose\", \"Linda\", \"Peter\", \"Meg\"],\n",
    "    \"Age\": [21, 23, 25, 50, 48, 50],\n",
    "    \"Credit\": [74512, 400, 56132, 50, 1_000_000, 45121],\n",
    "}\n",
    "\n",
    "df = pk.DataFrameParser(data)\n",
    "fs = FeatureSelection(exclude_dtypes=[\"object\"], verbose=True)\n",
    "# new_df = fs.fit_transform(df, columns=[\"Age\"], dtypes=[\"object\"])\n",
    "# new_df = fs.fit_transform(df)\n",
    "# new_df = fs.fit_transform(df, dtypes=[\"object\"])\n",
    "# new_df = fs.fit_transform(df, columns=[\"Age\"])\n",
    "# new_df = fs.fit_transform(df, columns=[\"Name\"], dtypes=[\"number\"])\n",
    "result = fs.fit_transform(df, columns=[\"Credit\", \"Age\"])\n",
    "unwrap_value_or_error(result)"
   ]
  }
 ],
 "metadata": {
  "kernelspec": {
   "display_name": "env",
   "language": "python",
   "name": "python3"
  },
  "language_info": {
   "codemirror_mode": {
    "name": "ipython",
    "version": 3
   },
   "file_extension": ".py",
   "mimetype": "text/x-python",
   "name": "python",
   "nbconvert_exporter": "python",
   "pygments_lexer": "ipython3",
   "version": "3.11.6"
  }
 },
 "nbformat": 4,
 "nbformat_minor": 2
}
