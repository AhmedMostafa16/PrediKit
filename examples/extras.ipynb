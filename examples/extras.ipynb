{
 "cells": [
  {
   "cell_type": "markdown",
   "metadata": {},
   "source": [
    "## Performance comparison parquet vs (csv, pickle)"
   ]
  },
  {
   "cell_type": "code",
   "execution_count": 1,
   "metadata": {},
   "outputs": [],
   "source": [
    "import time\n",
    "\n",
    "def timer(func):\n",
    "    def wrapper(*args, **kwargs):\n",
    "        begin = time.time()\n",
    "        val = func(*args, **kwargs)\n",
    "        end = time.time()\n",
    "        print(f\"The time taken in {func.__name__}: {end - begin :.2f} seconds\")\n",
    "        return val\n",
    "\n",
    "    return wrapper"
   ]
  },
  {
   "cell_type": "code",
   "execution_count": 2,
   "metadata": {},
   "outputs": [
    {
     "data": {
      "text/html": [
       "<div>\n",
       "<style scoped>\n",
       "    .dataframe tbody tr th:only-of-type {\n",
       "        vertical-align: middle;\n",
       "    }\n",
       "\n",
       "    .dataframe tbody tr th {\n",
       "        vertical-align: top;\n",
       "    }\n",
       "\n",
       "    .dataframe thead th {\n",
       "        text-align: right;\n",
       "    }\n",
       "</style>\n",
       "<table border=\"1\" class=\"dataframe\">\n",
       "  <thead>\n",
       "    <tr style=\"text-align: right;\">\n",
       "      <th></th>\n",
       "      <th>Name</th>\n",
       "      <th>Age</th>\n",
       "      <th>Credit</th>\n",
       "    </tr>\n",
       "  </thead>\n",
       "  <tbody>\n",
       "    <tr>\n",
       "      <th>0</th>\n",
       "      <td>John</td>\n",
       "      <td>NaN</td>\n",
       "      <td>NaN</td>\n",
       "    </tr>\n",
       "    <tr>\n",
       "      <th>1</th>\n",
       "      <td>Andrea</td>\n",
       "      <td>23.0</td>\n",
       "      <td>400.0</td>\n",
       "    </tr>\n",
       "    <tr>\n",
       "      <th>2</th>\n",
       "      <td>Rose</td>\n",
       "      <td>25.0</td>\n",
       "      <td>NaN</td>\n",
       "    </tr>\n",
       "    <tr>\n",
       "      <th>3</th>\n",
       "      <td>Linda</td>\n",
       "      <td>50.0</td>\n",
       "      <td>50.0</td>\n",
       "    </tr>\n",
       "    <tr>\n",
       "      <th>4</th>\n",
       "      <td>Peter</td>\n",
       "      <td>NaN</td>\n",
       "      <td>200.0</td>\n",
       "    </tr>\n",
       "    <tr>\n",
       "      <th>5</th>\n",
       "      <td>Meg</td>\n",
       "      <td>50.0</td>\n",
       "      <td>NaN</td>\n",
       "    </tr>\n",
       "  </tbody>\n",
       "</table>\n",
       "</div>"
      ],
      "text/plain": [
       "     Name   Age  Credit\n",
       "0    John   NaN     NaN\n",
       "1  Andrea  23.0   400.0\n",
       "2    Rose  25.0     NaN\n",
       "3   Linda  50.0    50.0\n",
       "4   Peter   NaN   200.0\n",
       "5     Meg  50.0     NaN"
      ]
     },
     "metadata": {},
     "output_type": "display_data"
    }
   ],
   "source": [
    "import sys\n",
    "import os\n",
    "\n",
    "\n",
    "root = os.path.dirname(os.path.abspath(\".\"))\n",
    "sys.path.append(root)\n",
    "\n",
    "from pathlib import Path\n",
    "import numpy as np\n",
    "import predikit as pk\n",
    "\n",
    "csv_file = Path(\"./sample_data/Flights 1m.csv\")\n",
    "\n",
    "data = {\n",
    "    \"Name\": [\"John\", \"Andrea\", \"Rose\", \"Linda\", \"Peter\", \"Meg\"],\n",
    "    \"Age\": [np.nan, 23, 25, 50, np.nan, 50],\n",
    "    \"Credit\": [np.nan, 400, np.nan, 50, 200, np.nan],\n",
    "}\n",
    "\n",
    "# df = pk.DataFrameParser(csv_file, index_col=0)  # fixme\n",
    "df = pk.DataFrameParser(data)\n",
    "\n",
    "# dp = pk.DataPrepare(clean_missing=True, clean_indicator=True, verbose=True)\n",
    "# dp = pk.MissingValuesProcessor(\n",
    "#     strategy=pk.MissingValueStrategy.MEAN,\n",
    "#     add_indicator=True,\n",
    "#     verbose=True,\n",
    "# )\n",
    "\n",
    "# dp.fit_transform(df, cols=[\"Age\", \"Credit\"])\n",
    "\n",
    "display(df)"
   ]
  }
 ],
 "metadata": {
  "kernelspec": {
   "display_name": "env",
   "language": "python",
   "name": "python3"
  },
  "language_info": {
   "codemirror_mode": {
    "name": "ipython",
    "version": 3
   },
   "file_extension": ".py",
   "mimetype": "text/x-python",
   "name": "python",
   "nbconvert_exporter": "python",
   "pygments_lexer": "ipython3",
   "version": "3.12.0"
  }
 },
 "nbformat": 4,
 "nbformat_minor": 2
}
