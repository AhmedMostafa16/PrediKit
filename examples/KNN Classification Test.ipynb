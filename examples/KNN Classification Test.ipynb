{
 "cells": [
  {
   "cell_type": "code",
   "execution_count": 2,
   "metadata": {},
   "outputs": [
    {
     "name": "stderr",
     "output_type": "stream",
     "text": [
      "C:\\Users\\M\\AppData\\Local\\Temp\\ipykernel_9316\\4269708239.py:6: DeprecationWarning: \n",
      "Pyarrow will become a required dependency of pandas in the next major release of pandas (pandas 3.0),\n",
      "(to allow more performant data types, such as the Arrow string type, and better interoperability with other libraries)\n",
      "but was not found to be installed on your system.\n",
      "If this would cause problems for you,\n",
      "please provide us feedback at https://github.com/pandas-dev/pandas/issues/54466\n",
      "        \n",
      "  import pandas as pd\n"
     ]
    }
   ],
   "source": [
    "'https://www.kaggle.com/code/mbalvi75/08-knn-diabetes-dataset'\n",
    "import os\n",
    "import sys\n",
    "\n",
    "import numpy as np\n",
    "import pandas as pd\n",
    "from sklearn.preprocessing import StandardScaler\n",
    "from sklearn.metrics import confusion_matrix\n",
    "from sklearn.metrics import accuracy_score\n",
    "from sklearn.model_selection import train_test_split\n",
    "\n",
    "root = os.path.dirname(os.path.abspath(\".\"))\n",
    "sys.path.append(root)\n",
    "\n",
    "import predikit as pk"
   ]
  },
  {
   "cell_type": "code",
   "execution_count": 3,
   "metadata": {},
   "outputs": [
    {
     "name": "stdout",
     "output_type": "stream",
     "text": [
      "   Pregnancies  Glucose  BloodPressure  SkinThickness  Insulin   BMI  \\\n",
      "0            6      148             72             35        0  33.6   \n",
      "1            1       85             66             29        0  26.6   \n",
      "2            8      183             64              0        0  23.3   \n",
      "\n",
      "   DiabetesPedigreeFunction  Age  Outcome  \n",
      "0                     0.627   50        1  \n",
      "1                     0.351   31        0  \n",
      "2                     0.672   32        1  \n"
     ]
    }
   ],
   "source": [
    "from predikit import Classifier\n",
    "\n",
    "df = pd.read_csv('./sample_data/diabetes.csv')\n",
    "print(df.head(3))\n",
    "\n",
    "\n",
    "knn = Classifier(params={'n_neighbors': 5, 'p' : 2, 'metric' : 'euclidean'}, strategy='KNeighborsClassifier')\n"
   ]
  },
  {
   "cell_type": "code",
   "execution_count": null,
   "metadata": {},
   "outputs": [],
   "source": [
    "w = 5\n",
    "df.hist(bins=10, figsize=(20,15), color='green', alpha=0.6, hatch='X', rwidth=w)\n",
    "\n",
    "X = df.iloc[:, 0:8]\n",
    "y = df.iloc[:, 8]\n",
    "\n",
    "xtr, xte, ytr, yte = train_test_split(X, y, test_size=0.2, random_state=4)\n",
    "\n",
    "sc = StandardScaler()\n",
    "\n",
    "xtr = sc.fit_transform(xtr)\n",
    "xte = sc.fit_transform(xte)"
   ]
  },
  {
   "cell_type": "code",
   "execution_count": null,
   "metadata": {},
   "outputs": [],
   "source": [
    "knn.fit(xtr, ytr)\n",
    "pred = knn.predict(xte)\n",
    "print('prediction: ', pred)\n",
    "print('-----------------------------------------------------')\n",
    "pred_probability = knn.predict_proba(xte)\n",
    "print('prediction probability: ', pred_probability)\n",
    "print('-----------------------------------------------------')\n",
    "pred_log_probability = knn.predict_log_proba(xte)\n",
    "print('prediction log probability: ', pred_log_probability)\n",
    "print('-----------------------------------------------------')\n",
    "score = knn.score(xte, yte)\n",
    "print('Accuracy:', score)\n",
    "print('-----------------------------------------------------')\n",
    "print(accuracy_score(pred, yte))\n",
    "print('-----------------------------------------------------')\n",
    "print(confusion_matrix(pred, yte))"
   ]
  },
  {
   "cell_type": "code",
   "execution_count": null,
   "metadata": {},
   "outputs": [],
   "source": []
  }
 ],
 "metadata": {
  "kernelspec": {
   "display_name": "Python 3.11 Virtual Environment",
   "language": "python",
   "name": "python3"
  },
  "language_info": {
   "codemirror_mode": {
    "name": "ipython",
    "version": 3
   },
   "file_extension": ".py",
   "mimetype": "text/x-python",
   "name": "python",
   "nbconvert_exporter": "python",
   "pygments_lexer": "ipython3",
   "version": "3.11.8"
  }
 },
 "nbformat": 4,
 "nbformat_minor": 2
}
